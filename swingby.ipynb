{
  "nbformat": 4,
  "nbformat_minor": 0,
  "metadata": {
    "colab": {
      "name": "swingby.ipynb",
      "provenance": [],
      "collapsed_sections": [],
      "authorship_tag": "ABX9TyPUHV5V8qmcTPJB0dXRAZwb",
      "include_colab_link": true
    },
    "kernelspec": {
      "name": "python3",
      "display_name": "Python 3"
    }
  },
  "cells": [
    {
      "cell_type": "markdown",
      "metadata": {
        "id": "view-in-github",
        "colab_type": "text"
      },
      "source": [
        "<a href=\"https://colab.research.google.com/github/daruma0309/swingby_simulation/blob/main/swingby.ipynb\" target=\"_parent\"><img src=\"https://colab.research.google.com/assets/colab-badge.svg\" alt=\"Open In Colab\"/></a>"
      ]
    },
    {
      "cell_type": "code",
      "metadata": {
        "id": "-et1XBeyt8a9"
      },
      "source": [
        "%matplotlib inline\r\n",
        "import numpy as np\r\n",
        "import matplotlib.pyplot as plt\r\n",
        "import matplotlib.animation as animation"
      ],
      "execution_count": 3,
      "outputs": []
    },
    {
      "cell_type": "code",
      "metadata": {
        "colab": {
          "base_uri": "https://localhost:8080/",
          "height": 265
        },
        "id": "RjqKzjM-uPQO",
        "outputId": "5e454b13-8fd2-4798-9fff-ae2ab1f1bc67"
      },
      "source": [
        "fig = plt.figure()\r\n",
        "\r\n",
        "ims = []\r\n",
        "\r\n",
        "for i in range(10):\r\n",
        "        rand = np.random.randn(100)     # 100個の乱数を生成\r\n",
        "        im = plt.plot(rand)             # 乱数をグラフにする\r\n",
        "        ims.append(im)                  # グラフを配列 ims に追加\r\n",
        "\r\n",
        "# 10枚のプロットを 100ms ごとに表示\r\n",
        "ani = animation.ArtistAnimation(fig, ims, interval=100)\r\n",
        "plt.show()"
      ],
      "execution_count": 4,
      "outputs": [
        {
          "output_type": "display_data",
          "data": {
            "image/png": "[encoded data removed]",
            "text/plain": [
              "<Figure size 432x288 with 1 Axes>"
            ]
          },
          "metadata": {
            "tags": [],
            "needs_background": "light"
          }
        }
      ]
    }
  ]
}